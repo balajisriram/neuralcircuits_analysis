{
 "cells": [
  {
   "cell_type": "markdown",
   "metadata": {},
   "source": [
    "# Plot impedance\n"
   ]
  },
  {
   "cell_type": "code",
   "execution_count": null,
   "metadata": {
    "scrolled": true
   },
   "outputs": [],
   "source": [
    "import json\n",
    "from util.electrode_utils import get_impedance,get_graph_from_geometry,plot_edges,plot_impedances,get_headstage_map,get_electrode_map\n",
    "import pprint\n",
    "import matplotlib.pyplot as plt\n",
    "\n",
    "%matplotlib inline  \n",
    "ppr = pprint.PrettyPrinter(indent=2).pprint\n",
    "\n",
    "xml_file = r'C:\\Users\\bsriram\\Downloads\\impedances\\2019-02-07_16-22-09\\g2_1impedance_measurement.xml'\n",
    "electrode = 'NNX_Poly3'\n",
    "headstage = 'intan'\n",
    "impedance,phase = get_impedance(xml_file)\n",
    "electrode_map = get_electrode_map(electrode)\n",
    "headstage_map = get_headstage_map(headstage)\n",
    "\n",
    "plot_impedances(impedance,phase,electrode_map,headstage_map)"
   ]
  },
  {
   "cell_type": "markdown",
   "metadata": {},
   "source": [
    "# Create graph and plot them"
   ]
  },
  {
   "cell_type": "code",
   "execution_count": null,
   "metadata": {},
   "outputs": [],
   "source": [
    "from util.electrode_utils import plot_edges,get_electrode_map\n",
    "import pprint\n",
    "\n",
    "%matplotlib inline  \n",
    "ppr = pprint.PrettyPrinter(indent=2).pprint\n",
    "\n",
    "emap = get_electrode_map('NNX_Poly3')\n",
    "plot_edges(emap)"
   ]
  },
  {
   "cell_type": "markdown",
   "metadata": {},
   "source": [
    "# Make a prb and prm file"
   ]
  },
  {
   "cell_type": "code",
   "execution_count": null,
   "metadata": {},
   "outputs": [],
   "source": [
    "from util.analysis_utils import make_prb_file, make_prm_file\n",
    "import pprint\n",
    "ppr = pprint.PrettyPrinter(indent=2).pprint\n",
    "\n",
    "electrode = 'NNX_Poly3'\n",
    "headstage = 'intan'\n",
    "save_path = r'C:\\Users\\bsriram\\Desktop'\n",
    "probe_name = 'probe.prb'\n",
    "# make_prb_file(headstage=headstage, electrode=electrode,save_path=save_path,probe_name=probe_name)\n",
    "# make_prm_file(r'C:\\Users\\bsriram\\Desktop', sample_rate=40000., experiment_name='trial', probe_file='trial')"
   ]
  },
  {
   "cell_type": "markdown",
   "metadata": {},
   "source": [
    "# List PL2 files in directory\n",
    " - Assumes that the main directory contains a list of directories of dates\n",
    " - Each date directories has sub-directories of sessions (date_n) where n is  the number of session\n",
    " - within date_n there should be 1 (ONE) pl2 file and associated other files\n",
    " "
   ]
  },
  {
   "cell_type": "code",
   "execution_count": null,
   "metadata": {},
   "outputs": [],
   "source": [
    "from pypl2 import PyPL2FileReader, PL2FileInfo\n",
    "import os\n",
    "\n",
    "base_dir = r'C:\\Users\\bsriram\\Desktop\\Data_V1Paper\\Biogen'\n",
    "base_dir_list = os.listdir(base_dir)\n",
    "base_dir_list = sorted(base_dir_list)\n",
    "for date_dir in base_dir_list:\n",
    "    if date_dir in ['output','output1','Behavior']:continue\n",
    "    for sess_dir in os.listdir(os.path.join(base_dir,date_dir)):\n",
    "        if sess_dir in ['output','Behavior']:continue\n",
    "        pl2_file= [f for f in os.listdir(os.path.join(base_dir,date_dir,sess_dir)) if f.endswith('.pl2')]\n",
    "        if not pl2_file:continue\n",
    "        pl2_file = pl2_file[0]\n",
    "        pl2_file_path = os.path.join(base_dir,date_dir,sess_dir,pl2_file)\n",
    "        \n",
    "        p = PyPL2FileReader()\n",
    "        handle = p.pl2_open_file(pl2_file_path)\n",
    "        file_info = PL2FileInfo()\n",
    "        res = p.pl2_get_file_info(handle, file_info)\n",
    "        \n",
    "        print('{0} : {1} : {2} : {3}'.format(date_dir,sess_dir,pl2_file,file_info.m_CreatorComment))\n",
    "#         p.pl2_close_file(handle)\n"
   ]
  },
  {
   "cell_type": "markdown",
   "metadata": {},
   "source": [
    "# SCRATCH"
   ]
  },
  {
   "cell_type": "code",
   "execution_count": null,
   "metadata": {},
   "outputs": [],
   "source": []
  },
  {
   "cell_type": "markdown",
   "metadata": {},
   "source": [
    "# Make the .dat files, running, camera, events, prb, prm\n"
   ]
  },
  {
   "cell_type": "code",
   "execution_count": null,
   "metadata": {},
   "outputs": [],
   "source": [
    "import time\n",
    "sessions = [\n",
    "#     ('g2_1','01302019','01302019_1','R1','RunningNotNamed','plexon','NNX_Poly3'),\n",
    "#     ('g2_2','01302019','01302019_1','R2','RunningNotNamed','plexon','NNX_Poly3'),\n",
    "#     ('b8','01312019','01312019_3','R1','RunningNotNamed','plexon','NNX_4sh_tetX2'),\n",
    "#     ('g2_1','01312019','01312019_2','R1','RunningNotNamed','plexon','NNX_Poly3'),\n",
    "#     ('g2_2','01312019','01312019_2','R2','RunningNotNamed','plexon','NNX_Poly3'),\n",
    "#     ('b8','02012019','02012019_2','R1','RunningNotNamed','plexon','NNX_4sh_tetX2'),\n",
    "#     ('g2_1','02012019','02012019_1','R1','RunningNotNamed','plexon','NNX_Poly3'),\n",
    "#     ('g2_2','02012019','02012019_1','R2','RunningNotNamed','plexon','NNX_Poly3'),\n",
    "#     ('b8','02022019','02022019_1','R1','RunningNotNamed','plexon','NNX_4sh_tetX2'),\n",
    "#     ('g2_2','02022019','02022019_1','R2','RunningNotNamed','plexon','NNX_Poly3'),\n",
    "#     ('g2_1','02032019','02032019_1','R1','RunningNotNamed','plexon','NNX_Poly3'),\n",
    "#     ('g2_2','02032019','02032019_1','R2','RunningNotNamed','plexon','NNX_Poly3'),\n",
    "#     ('b8','02032019','02032019_2','R1','RunningNotNamed','plexon','NNX_4sh_tetX2'),\n",
    "#     ('b8','02042019','02042019_1','R1','RunningNotNamed','plexon','NNX_4sh_tetX2'),\n",
    "#     ('g2_2','02042019','02042019_1','R2','RunningNotNamed','plexon','NNX_Poly3'),\n",
    "#     ('b8','02052019','02052019_1','R1','RunningNotNamed','plexon','NNX_4sh_tetX2'),\n",
    "#     ('g2_2','02052019','02052019_1','R2','RunningNotNamed','plexon','NNX_Poly3'),\n",
    "#     ('b8','02062019','02062019_1','R1','RunningNotNamed','plexon','NNX_4sh_tetX2'),\n",
    "#     ('g2_2','02062019','02062019_1','R2','RunningNotNamed','plexon','NNX_Poly3'),\n",
    "#     ('b8','02132019','02132019_1','R1','RunningNotNamed','plexon','NNX_4sh_tetX2'),\n",
    "#     ('g2_2','02132019','02132019_1','R2','RunningNotNamed','plexon','NNX_Poly3'),\n",
    "#     ('b8','02142019','02142019_2','R1','RunningNotNamed','plexon','NNX_4sh_tetX2'),\n",
    "#     ('g2_2','02142019','02142019_2','R2','RunningNotNamed','plexon','NNX_Poly3'),\n",
    "#     ('g2_3','02152019','02152019_2','R1','RunningNotNamed','plexon','NNX_Poly3'),\n",
    "#     ('g2_2','02152019','02152019_2','R2','RunningNotNamed','plexon','NNX_Poly3'),\n",
    "#     ('g2_5','02152019','02152019_3','R1','RunningNotNamed','plexon','NNX_Poly3'),\n",
    "#     ('g2_4','02152019','02152019_3','R2','RunningNotNamed','plexon','NNX_Poly3'),\n",
    "#     ('b8','02152019','02152019_4','R1','RunningNotNamed','plexon','NNX_4sh_tetX2'),\n",
    "#     ('b8','02172019','02172019_1','R1','RunningNotNamed','plexon','NNX_4sh_tetX2'),\n",
    "#     ('g2_3','02172019','02172019_2','R1','RunningNotNamed','plexon','NNX_Poly3'),\n",
    "#     ('g2_3','02182019','02182019_1','R1','RunningNotNamed','plexon','NNX_Poly3'),\n",
    "#     ('g2_2','02182019','02182019_1','R2','RunningNotNamed','plexon','NNX_Poly3'),\n",
    "#     ('b8','02182019','02182019_2','R1','RunningNotNamed','plexon','NNX_4sh_tetX2'),\n",
    "#     ('g2_4','02182019','02182019_2','R2','RunningNotNamed','plexon','NNX_Poly3'),\n",
    "#     ('b8','02192019','02192019_1','R1','RunningNotNamed','plexon','NNX_4sh_tetX2'),\n",
    "#     ('b8','02212019','02212019_1','R1','RunningNotNamed','plexon','NNX_4sh_tetX2'),\n",
    "#     ('b8','02222019','02222019_1','R1','RunningNotNamed','plexon','NNX_4sh_tetX2'),\n",
    "#     ('g2_2','02192019','02192019_1','R2','RunningNotNamed','plexon','NNX_Poly3'),\n",
    "#     ('g2_2','02212019','02212019_1','R2','RunningNotNamed','plexon','NNX_Poly3'),\n",
    "#     ('g2_2','02222019','02222019_1','R2','RunningNotNamed','plexon','NNX_Poly3'),\n",
    "#     ('g2_4','02192019','02192019_2','R2','RunningNotNamed','plexon','NNX_Poly3'),\n",
    "#     ('g2_4','02212019','02212019_2','R2','RunningNotNamed','plexon','NNX_Poly3'),\n",
    "#     ('g2_4','02222019','02222019_2','R2','RunningNotNamed','plexon','NNX_Poly3'),\n",
    "#     ('b8','02232019','02232019_1','R1','RunningNotNamed','plexon','NNX_4sh_tetX2'),\n",
    "#     ('b8','02252019','02252019_1','R1','RunningNotNamed','plexon','NNX_4sh_tetX2'),\n",
    "#     ('g2_4','02232019','02232019_1','R2','RunningNotNamed','plexon','NNX_Poly3'),\n",
    "#     ('g2_4','02252019','02252019_2','R2','RunningNotNamed','plexon','NNX_Poly3'),\n",
    "#     ('g2_4','02262019','02262019_1','R1','RunningNotNamed','plexon','NNX_Poly3'),\n",
    "#     ('g2_4','02272019','02272019_1','R1','RunningNotNamed','plexon','NNX_Poly3'),\n",
    "#     ('g2_4','02282019','02282019_1','R1','RunningNotNamed','plexon','NNX_Poly3'),\n",
    "#     ('g2_2','02232019','02232019_2','R2','RunningNotNamed','plexon','NNX_Poly3'),\n",
    "#     ('g2_2','02252019','02252019_1','R2','RunningNotNamed','plexon','NNX_Poly3'),\n",
    "#     ('g2_2','02262019','02262019_1','R2','RunningNotNamed','plexon','NNX_Poly3'),\n",
    "#     ('g2_2','02272019','02272019_1','R2','RunningNotNamed','plexon','NNX_Poly3'),\n",
    "#     ('g2_2','02282019','02282019_1','R2','RunningNotNamed','plexon','NNX_Poly3'),\n",
    "]\n",
    "\n",
    "sessions = [\n",
    "#     ('TREM2_36', '01142019', '01142019_1','R1','RunningNotNamed','plexon','NNX_Buszaki32'),\n",
    "#     ('TREM2_40', '01142019', '01142019_2','R1','RunningNotNamed','plexon','NNX_Buszaki32'),\n",
    "#     ('TREM2_37', '01142019', '01142019_2','R2','RunningNotNamed','plexon','NNX_Buszaki32'),\n",
    "#     ('TREM2_36', '01152019', '01152019_1','R1','RunningNotNamed','plexon','NNX_Buszaki32'),\n",
    "#     ('TREM2_40', '01152019', '01152019_2','R1','RunningNotNamed','plexon','NNX_Buszaki32'),\n",
    "#     ('TREM2_37', '01152019', '01152019_2','R2','RunningNotNamed','plexon','NNX_Buszaki32'),\n",
    "#     ('TREM2_36', '01182019', '01182019_1','R1','RunningNotNamed','plexon','NNX_Buszaki32'),\n",
    "#     ('TREM2_40', '01182019', '01182019_2','R1','RunningNotNamed','plexon','NNX_Buszaki32'), \n",
    "#     ('TREM2_37', '01182019', '01182019_2','R2','RunningNotNamed','plexon','NNX_Buszaki32'), \n",
    "#     ('TREM2_36', '01242019', '01242019_1','R1','RunningNotNamed','plexon','NNX_Buszaki32'), \n",
    "#     ('TREM2_36', '01312019', '01312019_1','R1','RunningNotNamed','plexon','NNX_Buszaki32'), \n",
    "#     ('TREM2_39', '01312019', '01312019_1','R2','RunningNotNamed','plexon','NNX_Buszaki32'), \n",
    "#     ('TREM2_36', '02122019', '02122019_1','R1','RunningNotNamed','plexon','NNX_Buszaki32'), \n",
    "#     ('TREM2_37', '02122019', '02122019_1','R2','RunningNotNamed','plexon','NNX_Buszaki32'), \n",
    "#     ('TREM2_36', '02142019', '02142019_1','R1','RunningNotNamed','plexon','NNX_Buszaki32'), \n",
    "#     ('TREM2_37', '02142019', '02142019_1','R2','RunningNotNamed','plexon','NNX_Buszaki32'), \n",
    "]\n",
    "print(len(sessions))\n",
    "import os\n",
    "import pypl2\n",
    "from pl2_utils import verify_names,load_and_pack_WB, load_and_pack_running,load_and_pack_events,create_session_dir_if_needed\n",
    "from util.analysis_utils import make_prb_file,make_prm_file,make_qsub_file\n",
    "from util.eye_utils import save_eye_track_video,make_eye_analysis_script,make_eye_trk_qsub_script\n",
    "import numpy as np\n",
    "\n",
    "base_loc = r'Y:\\for_yael'\n",
    "for sess in sessions:\n",
    "    print(sess)\n",
    "    (subj,date,session,rig,running_channel,headstage,electrode) = sess\n",
    "    \n",
    "    t_in = time.time()\n",
    "    # load and save stuff from the pl2 file\n",
    "    dat_folder_path = load_and_pack_WB(base_loc,sess,dref='med')\n",
    "    load_and_pack_running(base_loc,sess)\n",
    "    load_and_pack_events(base_loc,sess)\n",
    "    save_path = create_session_dir_if_needed(base_loc,subj,date)\n",
    "    voltage_gain = np.fromfile(os.path.join(save_path,'voltage_scale.np'))\n",
    "    \n",
    "    # temporary hacks\n",
    "#     dat_folder_path = save_path\n",
    "#     eye_tracking_folder_loc = os.path.join(dat_folder_path,'eye_tracking')\n",
    "    # save the prb,prm and qsub files\n",
    "    probe_name = make_prb_file(headstage,electrode,save_path)\n",
    "    make_prm_file(save_path, sample_rate=40000., voltage_gain=voltage_gain*10e6)\n",
    "    make_qsub_file(save_path,base_on_server='/home/bsriram/for_yael/')\n",
    "    \n",
    "    # where is the pl2 file?\n",
    "#     pl2_folder_path = os.path.join(base_loc,date,session)\n",
    "#     eye_tracking_folder_loc = save_eye_track_video(sess,pl2_folder_path,dat_folder_path)\n",
    "#     make_eye_analysis_script(sess,eye_tracking_folder_loc)\n",
    "#     make_eye_trk_qsub_script(sess,eye_tracking_folder_loc)\n",
    "    print('      finished:{1} with time_taken::{0:10.4f}'.format(time.time()-t_in,sess))\n",
    "    "
   ]
  },
  {
   "cell_type": "markdown",
   "metadata": {},
   "source": [
    "# get info about the eye-trk analyses"
   ]
  },
  {
   "cell_type": "code",
   "execution_count": null,
   "metadata": {},
   "outputs": [],
   "source": [
    "import os\n",
    "base_loc = r'C:\\Users\\bsriram\\Desktop\\Data_V1Paper\\Biogen\\output'\n",
    "for sess in os.listdir(base_loc):\n",
    "    if not os.path.isdir(os.path.join(base_loc,sess)): continue\n",
    "    if sess in ['g2_1_02012019','g2_2_01302019']: continue\n",
    "    et_loc = os.path.join(base_loc,sess,'eye_tracking')\n",
    "    h5_file = [f for f in os.listdir(et_loc) if f.endswith('h5')]\n",
    "    print(sess,':',h5_file)"
   ]
  },
  {
   "cell_type": "markdown",
   "metadata": {},
   "source": [
    "# assign behavior to recording session   "
   ]
  },
  {
   "cell_type": "code",
   "execution_count": null,
   "metadata": {},
   "outputs": [],
   "source": [
    "import numpy as np\n",
    "import pickle\n",
    "import pprint\n",
    "ppr = pprint.PrettyPrinter(indent=2).pprint\n",
    "\n",
    "behavior_loc = 'C:\\Users\\bsriram\\Desktop\\Data_V1Paper\\Biogen\\Behavior\\All'\n",
    "\n",
    "subject = 'b8'\n",
    "trial_record_file = r'C:\\Users\\bsriram\\Desktop\\Data_V1Paper\\Biogen\\Behavior\\All\\b8\\trialRecords.21074-23300.session_record'\n",
    "with open(trial_record_file,'rb') as f:\n",
    "    data = pickle.load(f)\n",
    "\n",
    "ppr(data)"
   ]
  },
  {
   "cell_type": "markdown",
   "metadata": {},
   "source": [
    "# Read And make DAT for Spike2 MAT file"
   ]
  },
  {
   "cell_type": "code",
   "execution_count": null,
   "metadata": {},
   "outputs": [],
   "source": [
    "%matplotlib inline\n",
    "import h5py\n",
    "import matplotlib.pyplot as plt\n",
    "with h5py.File(r'C:\\Users\\bsriram\\Desktop\\Data\\PGRN\\PGRN_WT_2\\PGRN_WT_2_Loc1_whiskerstim_A.smrx.mat', 'r') as f:\n",
    "    for k in f.keys():\n",
    "        print(k)\n",
    "    print(f.keys()[0])\n",
    "    fieldname = f.keys()[0]\n",
    "    fieldbase = fieldname.split('_')\n",
    "    fieldname = fieldbase[0]\n",
    "    for base in fieldbase[1:-1]:\n",
    "        fieldname = fieldname+'_'\n",
    "        fieldname = fieldname+base\n",
    "    print('Field name base is {0}'.format(fieldname))\n",
    "    \n",
    "    n_samples = f[fieldname+'_Ch1']['values'][0].shape[0]\n",
    "    print('Num samples = {0}'.format(n_samples))\n",
    "    print(f['PGRN_WT_2_Loc1_whiskerstim_A_Ch1']['values'][0].shape)\n",
    "    "
   ]
  },
  {
   "cell_type": "markdown",
   "metadata": {},
   "source": [
    "# Move stuff to data.dat in Y:"
   ]
  },
  {
   "cell_type": "code",
   "execution_count": 10,
   "metadata": {},
   "outputs": [],
   "source": [
    "import os\n",
    "loc = r'Y:\\PGRN'\n",
    "data_folders = [f for f in os.listdir(loc) if os.path.isdir(os.path.join(loc,f))]\n",
    "for folder in data_folders:\n",
    "    # get the dat files\n",
    "    temp = [f for f in os.listdir(os.path.join(loc,folder)) if f.endswith('.dat')]\n",
    "    dat_src = os.path.join(loc,folder,temp[0])\n",
    "    dat_des = os.path.join(loc,folder,'data.dat')\n",
    "    os.rename(dat_src,dat_des)"
   ]
  },
  {
   "cell_type": "code",
   "execution_count": 1,
   "metadata": {},
   "outputs": [
    {
     "ename": "TypeError",
     "evalue": "unsupported operand type(s) for /: 'int' and 'NoneType'",
     "output_type": "error",
     "traceback": [
      "\u001b[1;31m---------------------------------------------------------------------------\u001b[0m",
      "\u001b[1;31mTypeError\u001b[0m                                 Traceback (most recent call last)",
      "\u001b[1;32m<ipython-input-1-76a015c9629b>\u001b[0m in \u001b[0;36m<module>\u001b[1;34m()\u001b[0m\n\u001b[0;32m      1\u001b[0m \u001b[0mx\u001b[0m \u001b[1;33m=\u001b[0m \u001b[1;32mNone\u001b[0m\u001b[1;33m\u001b[0m\u001b[0m\n\u001b[1;32m----> 2\u001b[1;33m \u001b[1;36m1\u001b[0m\u001b[1;33m/\u001b[0m\u001b[0mx\u001b[0m\u001b[1;33m\u001b[0m\u001b[0m\n\u001b[0m",
      "\u001b[1;31mTypeError\u001b[0m: unsupported operand type(s) for /: 'int' and 'NoneType'"
     ]
    }
   ],
   "source": [
    "x = None\n",
    "1/x"
   ]
  },
  {
   "cell_type": "code",
   "execution_count": null,
   "metadata": {},
   "outputs": [],
   "source": []
  }
 ],
 "metadata": {
  "kernelspec": {
   "display_name": "Python 2",
   "language": "python",
   "name": "python2"
  },
  "language_info": {
   "codemirror_mode": {
    "name": "ipython",
    "version": 2
   },
   "file_extension": ".py",
   "mimetype": "text/x-python",
   "name": "python",
   "nbconvert_exporter": "python",
   "pygments_lexer": "ipython2",
   "version": "2.7.15"
  }
 },
 "nbformat": 4,
 "nbformat_minor": 2
}

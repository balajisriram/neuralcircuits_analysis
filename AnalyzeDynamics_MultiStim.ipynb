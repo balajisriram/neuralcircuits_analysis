{
 "cells": [
  {
   "cell_type": "code",
   "execution_count": 3,
   "metadata": {},
   "outputs": [],
   "source": [
    "import pandas as pd"
   ]
  },
  {
   "cell_type": "code",
   "execution_count": 5,
   "metadata": {},
   "outputs": [
    {
     "data": {
      "text/plain": [
       "Index(['mean_activity_ms', 'std_activity_ms', 'max_z_ms', 'summed_z_ms',\n",
       "       'stable_response_ms', 'max_response_ms', 'first_pulse_ratio_ms',\n",
       "       'second_pulse_ratio_ms', 'channel_number_ms', 'off_response_ms',\n",
       "       'max_z_t_ms', 'max_z_t_quality_ms', 'total_z_t_ms',\n",
       "       'total_z_t_quality_ms', 'subject', 'genotype', 'location',\n",
       "       'penetration'],\n",
       "      dtype='object')"
      ]
     },
     "execution_count": 5,
     "metadata": {},
     "output_type": "execute_result"
    }
   ],
   "source": [
    "temp = pd.read_pickle(r'C:\\Users\\balaji\\OneDrive\\Desktop\\Code\\neuralcircuits_analysis\\Results\\AllUnitData_MUA_multistim.pickle')\n",
    "temp.columns"
   ]
  },
  {
   "cell_type": "markdown",
   "metadata": {},
   "source": [
    "# Generator code"
   ]
  },
  {
   "cell_type": "code",
   "execution_count": 7,
   "metadata": {},
   "outputs": [
    {
     "name": "stdout",
     "output_type": "stream",
     "text": [
      "V1 1.613245094728005 0.14114941008781465\n",
      "LGN 0.3507234591841686 0.7330717817430278\n",
      "S1 -2.215706271944762 0.05106470589479321\n",
      "VPLM -3.166847798661973 0.01004128166880821\n"
     ]
    },
    {
     "data": {
      "image/png": "[encoded data removed]",
      "text/plain": [
       "<Figure size 576x360 with 1 Axes>"
      ]
     },
     "metadata": {
      "needs_background": "light"
     },
     "output_type": "display_data"
    }
   ],
   "source": [
    "%matplotlib inline\n",
    "import matplotlib.pyplot as plt\n",
    "import numpy as np\n",
    "import scipy.stats as stats\n",
    "from spike2_utils import lighten_color\n",
    "import pandas as pd\n",
    "\n",
    "def sem(inp):\n",
    "    sd = np.std(inp)\n",
    "    n = np.size(inp)\n",
    "    return sd/np.sqrt(n)\n",
    "\n",
    "allData = pd.read_pickle('Results\\AllUnitData_MUA_multistim.pickle')\n",
    "\n",
    "\n",
    "sig_thresh = 0.05/20\n",
    "\n",
    "# make this a loop\n",
    "areas = ['V1','LGN','S1','VPLM']\n",
    "feature_of_interest = 'total_z_t_ms'\n",
    "label_locs = []\n",
    "fig,ax = plt.subplots(1,1,figsize=(8,5),sharey=True)\n",
    "for j,area in enumerate(areas):\n",
    "    \n",
    "    hom_mr = allData.loc[(allData['location']==area) & (allData['genotype']=='HOM'),feature_of_interest]\n",
    "    hom_sub = allData.loc[(allData['location']==area) & (allData['genotype']=='HOM'),'subject']\n",
    "    goods = np.bitwise_and(hom_mr<1000,~np.isnan(hom_mr))\n",
    "    hom_mr = hom_mr[goods]\n",
    "    hom_sub = hom_sub[goods]\n",
    "    \n",
    "    wt_mr = allData.loc[(allData['location']==area) & (allData['genotype']=='WT'),feature_of_interest]\n",
    "    wt_sub = allData.loc[(allData['location']==area) & (allData['genotype']=='WT'),'subject']\n",
    "    goods = np.bitwise_and(wt_mr<1000,~np.isnan(wt_mr))\n",
    "    wt_mr = wt_mr[goods]\n",
    "    wt_sub = wt_sub[goods]\n",
    "    \n",
    "    space_between_genotype = 7.\n",
    "    space_between_areas = 15.\n",
    "    spread_between_individuals = 0.1\n",
    "    mean_markersize = 10\n",
    "    \n",
    "    wt_mean_vals = []\n",
    "    for i,sub in enumerate(np.unique(wt_sub)):\n",
    "        data_points = wt_mr[wt_sub==sub]\n",
    "        try:\n",
    "            ax.scatter(space_between_areas*j-i*spread_between_individuals*np.ones_like(data_points),data_points,c='b',s=5,alpha=0.5)\n",
    "        except:\n",
    "            import pdb; pdb.set_trace()\n",
    "        wt_mean_vals.append(np.nanmean(data_points))\n",
    "    x_loc = space_between_areas*j+2.5\n",
    "    #ax.plot(x_loc,np.mean(wt_mean_vals),marker='d',markersize=mean_markersize,color='b')\n",
    "    #ax.plot([x_loc,x_loc],[np.mean(wt_mean_vals)-sem(wt_mean_vals),np.mean(wt_mean_vals)+sem(wt_mean_vals)],linewidth=3,color='b',)\n",
    "    ax.bar(x_loc,np.mean(wt_mean_vals),yerr=sem(wt_mean_vals),color='b',width=2)\n",
    "    hom_mean_vals = []\n",
    "    for i,sub in enumerate(np.unique(hom_sub)):\n",
    "        data_points  = hom_mr[hom_sub==sub]\n",
    "        ax.scatter(space_between_genotype+space_between_areas*j+i*spread_between_individuals*np.ones_like(data_points),data_points,c='r',s=5,alpha=0.5)\n",
    "        hom_mean_vals.append(np.nanmean(data_points))\n",
    "    x_loc = space_between_genotype+space_between_areas*j-2.5\n",
    "    #ax.plot(x_loc,np.mean(hom_mean_vals),marker='d',markersize=mean_markersize,color='r')\n",
    "    #ax.plot([x_loc,x_loc],[np.mean(hom_mean_vals)-sem(hom_mean_vals),np.mean(hom_mean_vals)+sem(hom_mean_vals)],linewidth=3,color='r')\n",
    "    ax.bar(x_loc,np.mean(hom_mean_vals),yerr=sem(hom_mean_vals),color='r',width=2)\n",
    "    \n",
    "    (t,p) = stats.ttest_ind(wt_mean_vals,hom_mean_vals)\n",
    "    print(area,t,p)\n",
    "    \n",
    "    # labels\n",
    "    label_locs.append(space_between_areas*j+space_between_genotype/2)\n",
    "    \n",
    "ax.set_xticks(label_locs)\n",
    "ax.set_xticklabels(areas,fontsize=20)\n",
    "ax.set_yticklabels(ax.get_yticks(),fontsize=12)\n",
    "ax.set_ylabel('Adaptation t$_{1/2}$ (s)',fontsize=20)\n",
    "\n",
    "fig.savefig(r'Results\\AdaptationTC_Total_MS.svg')"
   ]
  },
  {
   "cell_type": "code",
   "execution_count": null,
   "metadata": {},
   "outputs": [],
   "source": []
  }
 ],
 "metadata": {
  "kernelspec": {
   "display_name": "Python 3",
   "language": "python",
   "name": "python3"
  },
  "language_info": {
   "codemirror_mode": {
    "name": "ipython",
    "version": 3
   },
   "file_extension": ".py",
   "mimetype": "text/x-python",
   "name": "python",
   "nbconvert_exporter": "python",
   "pygments_lexer": "ipython3",
   "version": "3.6.10"
  }
 },
 "nbformat": 4,
 "nbformat_minor": 2
}
